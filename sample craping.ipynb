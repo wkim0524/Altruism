{
 "cells": [
  {
   "cell_type": "code",
   "execution_count": 1,
   "metadata": {
    "collapsed": true
   },
   "outputs": [],
   "source": [
    "## article link get code"
   ]
  },
  {
   "cell_type": "code",
   "execution_count": 57,
   "metadata": {},
   "outputs": [],
   "source": [
    "import selenium \n",
    "from selenium import webdriver\n",
    "from bs4 import BeautifulSoup\n",
    "from selenium.webdriver.common.by import By"
   ]
  },
  {
   "cell_type": "code",
   "execution_count": 58,
   "metadata": {},
   "outputs": [],
   "source": [
    "driver = webdriver.Chrome('/Users/stan/chromedriver')\n",
    "driver.get('https://www.nytimes.com/search?query=care')"
   ]
  },
  {
   "cell_type": "code",
   "execution_count": 59,
   "metadata": {},
   "outputs": [],
   "source": [
    "results = driver.find_elements_by_tag_name('a')"
   ]
  },
  {
   "cell_type": "code",
   "execution_count": 60,
   "metadata": {},
   "outputs": [],
   "source": [
    "find_href = driver.find_elements_by_css_selector('a')\n",
    "    "
   ]
  },
  {
   "cell_type": "code",
   "execution_count": 102,
   "metadata": {},
   "outputs": [
    {
     "name": "stdout",
     "output_type": "stream",
     "text": [
      "https://www.nytimes.com/search?query=care#site-content\nhttps://www.nytimes.com/search?query=care#site-index\nhttps://www.nytimes.com/\nhttps://www.nytimes.com/subscription/multiproduct/lp8HYKU.html?campaignId=6W74R\nhttps://myaccount.nytimes.com/auth/login\nhttps://myaccount.nytimes.com/auth/login\nhttps://myaccount.nytimes.com/auth/login\nhttps://www.nytimes.com/section/todayspaper\nhttps://www.nytimes.com/2018/12/02/opinion/letters/foster-care-new-york-city.html\nhttps://www.nytimes.com/2018/06/11/upshot/can-low-intensity-care-solve-high-health-care-costs.html\nhttps://www.nytimes.com/2018/10/29/opinion/letters/charity-health-care.html\nhttps://www.nytimes.com/2018/07/30/upshot/shopping-for-health-care-simply-doesnt-work-so-what-might.html\nhttps://www.nytimes.com/2018/11/22/opinion/democrats-obamacare-states.html\nhttps://www.nytimes.com/2018/10/25/opinion/trump-republican-hate.html\nhttps://www.nytimes.com/2018/09/17/upshot/medicare-bundled-payments-cost-savings.html\nhttps://www.nytimes.com/2018/10/31/opinion/health-care-election-voting-obamacare.html\nhttps://www.nytimes.com/2018/07/16/upshot/costs-health-care-us.html\nhttps://www.nytimes.com/2018/11/15/opinion/letters/department-veterans-affairs-medical-care.html\nhttps://nyt.qualtrics.com/jfe/form/SV_ehZpyzWtbwO9HVj\nhttps://www.nytimes.com/\nhttps://www.nytimes.com/\nhttps://www.nytimes.com/\nhttps://www.nytimes.com/section/world\nhttps://www.nytimes.com/section/us\nhttps://www.nytimes.com/section/politics\nhttps://www.nytimes.com/section/nyregion\nhttps://www.nytimes.com/section/business\nhttps://www.nytimes.com/section/technology\nhttps://www.nytimes.com/section/science\nhttps://www.nytimes.com/section/climate\nhttps://www.nytimes.com/section/sports\nhttps://www.nytimes.com/section/obituaries\nhttps://www.nytimes.com/section/upshot\nhttps://www.nytimes.com/section/todayspaper\nhttps://www.nytimes.com/section/corrections\nhttps://www.nytimes.com/section/opinion\nhttps://www.nytimes.com/section/opinion/columnists\nhttps://www.nytimes.com/section/opinion/editorials\nhttps://www.nytimes.com/section/opinion/contributors\nhttps://www.nytimes.com/section/opinion/letters\nhttps://www.nytimes.com/section/opinion/sunday\nhttps://www.nytimes.com/video/opinion\nhttps://www.nytimes.com/section/arts\nhttps://www.nytimes.com/section/arts/design\nhttps://www.nytimes.com/section/books\nhttps://www.nytimes.com/section/arts/dance\nhttps://www.nytimes.com/section/movies\nhttps://www.nytimes.com/section/arts/music\nhttps://www.nytimes.com/section/arts/television\nhttps://www.nytimes.com/section/theater\nhttps://www.nytimes.com/watching\n"
     ]
    },
    {
     "name": "stdout",
     "output_type": "stream",
     "text": [
      "https://www.nytimes.com/video/arts\nhttps://www.nytimes.com/section/automobiles\nhttps://www.nytimes.com/crosswords\nhttps://www.nytimes.com/section/food\nhttps://cooking.nytimes.com/\nhttps://www.nytimes.com/section/education\nhttps://www.nytimes.com/section/style\nhttps://www.nytimes.com/section/health\nhttps://www.nytimes.com/section/jobs\nhttps://www.nytimes.com/section/magazine\nhttps://www.nytimes.com/section/realestate\nhttps://www.nytimes.com/section/t-magazine\nhttps://www.nytimes.com/section/travel\nhttps://www.nytimes.com/section/fashion/weddings\nhttps://www.nytimes.com/section/reader-center\nhttps://thewirecutter.com/\nhttps://www.nytimes.com/section/learning\nhttp://www.nytimes.com/marketing/tools-and-services\nhttps://www.nytimes.com/events\nhttps://www.nytimes.com/section/multimedia\nhttps://www.nytimes.com/section/lens\nhttps://www.nytimes.com/video\nhttps://www.nytimes.com/store\nhttps://www.nytimes.com/times-journeys\nhttps://myaccount.nytimes.com/membercenter/myaccount.html\nhttps://www.nytimes.com/\nhttps://www.nytimes.com/section/world\nhttps://www.nytimes.com/section/us\nhttps://www.nytimes.com/section/politics\nhttps://www.nytimes.com/section/nyregion\nhttps://www.nytimes.com/section/business\nhttps://www.nytimes.com/section/technology\nhttps://www.nytimes.com/section/science\nhttps://www.nytimes.com/section/climate\nhttps://www.nytimes.com/section/sports\nhttps://www.nytimes.com/section/obituaries\nhttps://www.nytimes.com/section/upshot\nhttps://www.nytimes.com/section/todayspaper\nhttps://www.nytimes.com/section/corrections\nhttps://www.nytimes.com/section/opinion\nhttps://www.nytimes.com/section/opinion/columnists\nhttps://www.nytimes.com/section/opinion/editorials\nhttps://www.nytimes.com/section/opinion/contributors\nhttps://www.nytimes.com/section/opinion/letters\nhttps://www.nytimes.com/section/opinion/sunday\nhttps://www.nytimes.com/video/opinion\nhttps://www.nytimes.com/section/arts\nhttps://www.nytimes.com/section/arts/design\nhttps://www.nytimes.com/section/books\nhttps://www.nytimes.com/section/arts/dance\nhttps://www.nytimes.com/section/movies\nhttps://www.nytimes.com/section/arts/music\n"
     ]
    },
    {
     "name": "stdout",
     "output_type": "stream",
     "text": [
      "https://www.nytimes.com/section/arts/television\nhttps://www.nytimes.com/section/theater\nhttps://www.nytimes.com/watching\nhttps://www.nytimes.com/video/arts\nhttps://www.nytimes.com/section/automobiles\nhttps://www.nytimes.com/crosswords\nhttps://www.nytimes.com/section/food\nhttps://cooking.nytimes.com/\nhttps://www.nytimes.com/section/education\nhttps://www.nytimes.com/section/style\nhttps://www.nytimes.com/section/health\nhttps://www.nytimes.com/section/jobs\nhttps://www.nytimes.com/section/magazine\nhttps://www.nytimes.com/section/realestate\nhttps://www.nytimes.com/section/t-magazine\nhttps://www.nytimes.com/section/travel\nhttps://www.nytimes.com/section/fashion/weddings\nhttps://www.nytimes.com/section/reader-center\nhttps://thewirecutter.com/\nhttps://www.nytimes.com/section/learning\nhttp://www.nytimes.com/marketing/tools-and-services\nhttps://www.nytimes.com/events\nhttps://www.nytimes.com/section/multimedia\nhttps://www.nytimes.com/section/lens\nhttps://www.nytimes.com/video\nhttps://www.nytimes.com/store\nhttps://www.nytimes.com/times-journeys\nhttps://myaccount.nytimes.com/membercenter/myaccount.html\nhttps://www.nytimes.com/hdleftnav\nhttps://www.nytimes.com/digitalleftnav\nhttps://www.nytimes.com/subscription/games/lp897H9.html\nhttps://www.nytimes.com/subscriptions/Multiproduct/lp8R3WU.html\nhttps://www.nytimes.com/marketing/newsletters\nhttps://www.nytimes.com/corporateleftnav\nhttps://www.nytimes.com/educationleftnav\nhttps://www.nytimes.com/services/mobile/index.html\nhttp://eedition.nytimes.com/cgi-bin/signup.cgi?cc=37FYY\nhttps://www.nytimes.com/content/help/rights/copyright/copyright-notice.html\nhttps://myaccount.nytimes.com/membercenter/feedback.html\nhttp://www.nytco.com/careers\nhttp://nytmediakit.com/\nhttps://www.nytimes.com/content/help/rights/privacy/policy/privacy-policy.html#pp\nhttps://www.nytimes.com/privacy\nhttps://www.nytimes.com/ref/membercenter/help/agree.html\nhttps://www.nytimes.com/content/help/rights/sale/terms-of-sale.html\nhttp://spiderbites.nytimes.com/\nhttps://mobile.nytimes.com/help\nhttps://www.nytimes.com/membercenter/sitehelp.html\nhttps://www.nytimes.com/subscription/multiproduct/lp8HYKU?campaignId=37WXW\n"
     ]
    }
   ],
   "source": [
    "for a in results:\n",
    "    print(a.get_attribute(\"href\"))"
   ]
  },
  {
   "cell_type": "code",
   "execution_count": 103,
   "metadata": {},
   "outputs": [
    {
     "data": {
      "text/plain": [
       "<selenium.webdriver.remote.webelement.WebElement (session=\"1f06ac14c38c49ff81c7d6164116435c\", element=\"0.2912948703732243-152\")>"
      ]
     },
     "execution_count": 103,
     "metadata": {},
     "output_type": "execute_result"
    }
   ],
   "source": [
    "a"
   ]
  },
  {
   "cell_type": "code",
   "execution_count": 95,
   "metadata": {},
   "outputs": [
    {
     "ename": "TypeError",
     "evalue": "'list' is an invalid keyword argument for this function",
     "traceback": [
      "\u001b[0;31m---------------------------------------------------------------------------\u001b[0m",
      "\u001b[0;31mTypeError\u001b[0m                                 Traceback (most recent call last)",
      "\u001b[0;32m<ipython-input-95-65b7e2414b85>\u001b[0m in \u001b[0;36m<module>\u001b[0;34m\u001b[0m\n\u001b[1;32m      1\u001b[0m \u001b[0;32mfor\u001b[0m \u001b[0mmy_href\u001b[0m \u001b[0;32min\u001b[0m \u001b[0mfind_href\u001b[0m\u001b[0;34m:\u001b[0m\u001b[0;34m\u001b[0m\u001b[0m\n\u001b[1;32m      2\u001b[0m     \u001b[0mhref\u001b[0m \u001b[0;34m=\u001b[0m \u001b[0;34m[\u001b[0m\u001b[0;34m]\u001b[0m\u001b[0;34m\u001b[0m\u001b[0m\n\u001b[0;32m----> 3\u001b[0;31m     \u001b[0mprint\u001b[0m\u001b[0;34m(\u001b[0m\u001b[0mmy_href\u001b[0m\u001b[0;34m.\u001b[0m\u001b[0mget_attribute\u001b[0m\u001b[0;34m(\u001b[0m\u001b[0;34m\"href\"\u001b[0m\u001b[0;34m)\u001b[0m\u001b[0;34m,\u001b[0m \u001b[0mlist\u001b[0m \u001b[0;34m=\u001b[0m \u001b[0;34m'href'\u001b[0m\u001b[0;34m)\u001b[0m\u001b[0;34m\u001b[0m\u001b[0m\n\u001b[0m",
      "\u001b[0;31mTypeError\u001b[0m: 'list' is an invalid keyword argument for this function"
     ],
     "output_type": "error"
    }
   ],
   "source": [
    "for my_href in find_href:\n",
    "    href = []\n",
    "    print(my_href.get_attribute(\"href\"), list = 'href')"
   ]
  },
  {
   "cell_type": "code",
   "execution_count": 94,
   "metadata": {},
   "outputs": [
    {
     "data": {
      "text/plain": [
       "[]"
      ]
     },
     "execution_count": 94,
     "metadata": {},
     "output_type": "execute_result"
    }
   ],
   "source": [
    "href"
   ]
  },
  {
   "cell_type": "code",
   "execution_count": 55,
   "metadata": {},
   "outputs": [],
   "source": [
    "f = open(\"testingny.txt\",\"w+\") #파일생성 및 쓰기\n",
    "print(ref, file=f) #texts 에 저장된 리스트 파일에 쓰기"
   ]
  },
  {
   "cell_type": "code",
   "execution_count": 79,
   "metadata": {},
   "outputs": [
    {
     "data": {
      "text/plain": [
       "['https://www.nytimes.com/subscription/multiproduct/lp8HYKU?campaignId=37WXW']"
      ]
     },
     "execution_count": 79,
     "metadata": {},
     "output_type": "execute_result"
    }
   ],
   "source": [
    "refs"
   ]
  },
  {
   "cell_type": "code",
   "execution_count": 66,
   "metadata": {},
   "outputs": [],
   "source": [
    "f = open(\"testingnyt.txt\",\"w+\") #파일생성 및 쓰기\n",
    "print(ref, file=f) #texts 에 저장된 리스트 파일에 쓰기"
   ]
  },
  {
   "cell_type": "code",
   "execution_count": null,
   "metadata": {},
   "outputs": [],
   "source": []
  }
 ],
 "metadata": {
  "kernelspec": {
   "display_name": "Python 2",
   "language": "python",
   "name": "python2"
  },
  "language_info": {
   "codemirror_mode": {
    "name": "ipython",
    "version": 2
   },
   "file_extension": ".py",
   "mimetype": "text/x-python",
   "name": "python",
   "nbconvert_exporter": "python",
   "pygments_lexer": "ipython2",
   "version": "2.7.6"
  }
 },
 "nbformat": 4,
 "nbformat_minor": 0
}
